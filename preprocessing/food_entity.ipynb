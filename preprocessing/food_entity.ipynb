{
 "cells": [
  {
   "cell_type": "code",
   "execution_count": 1,
   "metadata": {},
   "outputs": [
    {
     "name": "stderr",
     "output_type": "stream",
     "text": [
      "Matplotlib is building the font cache; this may take a moment.\n"
     ]
    }
   ],
   "source": [
    "import pandas as pd\n",
    "import re\n",
    "import random\n",
    "import spacy\n",
    "from spacy.util import minibatch, compounding\n",
    "import en_core_web_lg\n",
    "import warnings\n",
    "import matplotlib.pyplot as plt\n",
    "import string"
   ]
  },
  {
   "cell_type": "code",
   "execution_count": 119,
   "metadata": {},
   "outputs": [
    {
     "data": {
      "text/html": [
       "<div>\n",
       "<style scoped>\n",
       "    .dataframe tbody tr th:only-of-type {\n",
       "        vertical-align: middle;\n",
       "    }\n",
       "\n",
       "    .dataframe tbody tr th {\n",
       "        vertical-align: top;\n",
       "    }\n",
       "\n",
       "    .dataframe thead th {\n",
       "        text-align: right;\n",
       "    }\n",
       "</style>\n",
       "<table border=\"1\" class=\"dataframe\">\n",
       "  <thead>\n",
       "    <tr style=\"text-align: right;\">\n",
       "      <th></th>\n",
       "      <th>fdc_id</th>\n",
       "      <th>data_type</th>\n",
       "      <th>description</th>\n",
       "      <th>food_category_id</th>\n",
       "      <th>publication_date</th>\n",
       "    </tr>\n",
       "  </thead>\n",
       "  <tbody>\n",
       "    <tr>\n",
       "      <th>0</th>\n",
       "      <td>1105904</td>\n",
       "      <td>branded_food</td>\n",
       "      <td>WESSON Vegetable Oil 1 GAL</td>\n",
       "      <td>NaN</td>\n",
       "      <td>2020-11-13</td>\n",
       "    </tr>\n",
       "    <tr>\n",
       "      <th>1</th>\n",
       "      <td>1105905</td>\n",
       "      <td>branded_food</td>\n",
       "      <td>SWANSON BROTH BEEF</td>\n",
       "      <td>NaN</td>\n",
       "      <td>2020-11-13</td>\n",
       "    </tr>\n",
       "    <tr>\n",
       "      <th>2</th>\n",
       "      <td>1105906</td>\n",
       "      <td>branded_food</td>\n",
       "      <td>CAMPBELL'S SLOW KETTLE SOUP CLAM CHOWDER</td>\n",
       "      <td>NaN</td>\n",
       "      <td>2020-11-13</td>\n",
       "    </tr>\n",
       "    <tr>\n",
       "      <th>3</th>\n",
       "      <td>1105907</td>\n",
       "      <td>branded_food</td>\n",
       "      <td>CAMPBELL'S SLOW KETTLE SOUP CHEESE BROCCOLI</td>\n",
       "      <td>NaN</td>\n",
       "      <td>2020-11-13</td>\n",
       "    </tr>\n",
       "    <tr>\n",
       "      <th>4</th>\n",
       "      <td>1105898</td>\n",
       "      <td>experimental_food</td>\n",
       "      <td>Discrepancy between the Atwater factor predict...</td>\n",
       "      <td>NaN</td>\n",
       "      <td>2020-10-30</td>\n",
       "    </tr>\n",
       "  </tbody>\n",
       "</table>\n",
       "</div>"
      ],
      "text/plain": [
       "    fdc_id          data_type  \\\n",
       "0  1105904       branded_food   \n",
       "1  1105905       branded_food   \n",
       "2  1105906       branded_food   \n",
       "3  1105907       branded_food   \n",
       "4  1105898  experimental_food   \n",
       "\n",
       "                                         description  food_category_id  \\\n",
       "0                         WESSON Vegetable Oil 1 GAL               NaN   \n",
       "1                                 SWANSON BROTH BEEF               NaN   \n",
       "2           CAMPBELL'S SLOW KETTLE SOUP CLAM CHOWDER               NaN   \n",
       "3        CAMPBELL'S SLOW KETTLE SOUP CHEESE BROCCOLI               NaN   \n",
       "4  Discrepancy between the Atwater factor predict...               NaN   \n",
       "\n",
       "  publication_date  \n",
       "0       2020-11-13  \n",
       "1       2020-11-13  \n",
       "2       2020-11-13  \n",
       "3       2020-11-13  \n",
       "4       2020-10-30  "
      ]
     },
     "execution_count": 119,
     "metadata": {},
     "output_type": "execute_result"
    }
   ],
   "source": [
    "food_df = pd.read_csv(\"data/food.csv\")\n",
    "food_df.head()"
   ]
  },
  {
   "cell_type": "code",
   "execution_count": 120,
   "metadata": {},
   "outputs": [
    {
     "data": {
      "text/plain": [
       "42018"
      ]
     },
     "execution_count": 120,
     "metadata": {},
     "output_type": "execute_result"
    }
   ],
   "source": [
    "# diaqualify foods with special characters, lowercase and extract results from \"description\" column\n",
    "foods = food_df[food_df[\"description\"].str.contains(\"[^a-zA-Z ]\") == False][\"description\"].apply(lambda food: food.lower())\n",
    "\n",
    "# filter out foods with more than 3 words, drop any duplicates\n",
    "foods = foods[foods.str.split().apply(len) <= 3].drop_duplicates()\n",
    "# foods = foods[foods.str.split('\\s+')]\n",
    "# print the remaining size\n",
    "foods.size"
   ]
  },
  {
   "cell_type": "code",
   "execution_count": 121,
   "metadata": {},
   "outputs": [
    {
     "data": {
      "text/plain": [
       "1          swanson broth beef\n",
       "9       swanson broth chicken\n",
       "31    pepperidge farm cookies\n",
       "41      pepperidge farm bread\n",
       "48    swanson broth vegetable\n",
       "Name: description, dtype: object"
      ]
     },
     "execution_count": 121,
     "metadata": {},
     "output_type": "execute_result"
    }
   ],
   "source": [
    "foods.head()"
   ]
  },
  {
   "cell_type": "code",
   "execution_count": 85,
   "metadata": {},
   "outputs": [],
   "source": [
    "#foods.to_csv('foods_clean.csv')"
   ]
  },
  {
   "cell_type": "code",
   "execution_count": 123,
   "metadata": {},
   "outputs": [
    {
     "data": {
      "image/png": "[encoded data removed]",
      "text/plain": [
       "<Figure size 1000x600 with 1 Axes>"
      ]
     },
     "metadata": {},
     "output_type": "display_data"
    }
   ],
   "source": [
    "# find one-worded, two-worded and three-worded foods\n",
    "one_worded_foods = foods[foods.str.split().apply(len) == 1]\n",
    "two_worded_foods = foods[foods.str.split().apply(len) == 2]\n",
    "three_worded_foods = foods[foods.str.split().apply(len) == 3]\n",
    "\n",
    "# create a bar plot\n",
    "fig, ax = plt.subplots(figsize=(10, 6))\n",
    "ax.bar([1, 2, 3], [one_worded_foods.size, two_worded_foods.size, three_worded_foods.size])\n",
    "\n",
    "# label the x-axis instances\n",
    "ax.set_xticks([1, 2, 3])\n",
    "ax.set_xticklabels([\"one\", \"two\", \"three\"])\n",
    "\n",
    "# set the title and the xy-axis labels\n",
    "plt.title(\"Number of Words in Food Entities\")\n",
    "plt.xlabel(\"Number of Words\")\n",
    "plt.ylabel(\"Food Entities\")\n",
    "\n",
    "# display the plot\n",
    "plt.show()"
   ]
  },
  {
   "cell_type": "code",
   "execution_count": 124,
   "metadata": {},
   "outputs": [
    {
     "name": "stdout",
     "output_type": "stream",
     "text": [
      "1-worded food entities: 1490\n",
      "2-worded food entities: 993\n",
      "3-worded food entities: 828\n"
     ]
    },
    {
     "name": "stderr",
     "output_type": "stream",
     "text": [
      "/tmp/ipykernel_17549/578531204.py:9: FutureWarning: The series.append method is deprecated and will be removed from pandas in a future version. Use pandas.concat instead.\n",
      "  foods = one_worded_foods.append(two_worded_foods[:round(total_num_foods * 0.30)]).append(three_worded_foods[:round(total_num_foods * 0.25)])\n",
      "/tmp/ipykernel_17549/578531204.py:9: FutureWarning: The series.append method is deprecated and will be removed from pandas in a future version. Use pandas.concat instead.\n",
      "  foods = one_worded_foods.append(two_worded_foods[:round(total_num_foods * 0.30)]).append(three_worded_foods[:round(total_num_foods * 0.25)])\n"
     ]
    }
   ],
   "source": [
    "# total number of foods\n",
    "total_num_foods = round(one_worded_foods.size / 45 * 100)\n",
    "\n",
    "# shuffle the 2-worded and 3-worded foods since we'll be slicing them\n",
    "two_worded_foods = two_worded_foods.sample(frac=1)\n",
    "three_worded_foods = three_worded_foods.sample(frac=1)\n",
    "\n",
    "# append the foods together \n",
    "foods = one_worded_foods.append(two_worded_foods[:round(total_num_foods * 0.30)]).append(three_worded_foods[:round(total_num_foods * 0.25)])\n",
    "\n",
    "# print the resulting sizes\n",
    "for i in range(3):\n",
    "    print(f\"{i+1}-worded food entities:\", foods[foods.str.split().apply(len) == i + 1].size)"
   ]
  },
  {
   "cell_type": "code",
   "execution_count": 125,
   "metadata": {},
   "outputs": [],
   "source": [
    "food_templates = [\n",
    "    \"I ate my {}\",\n",
    "    \"I'm eating a {}\",\n",
    "    \"I just ate a {}\",\n",
    "    \"I only ate the {}\",\n",
    "    \"I'm done eating a {}\",\n",
    "    \"I've already eaten a {}\",\n",
    "    \"I just finished my {}\",\n",
    "    \"When I was having lunch I ate a {}\",\n",
    "    \"I had a {} and a {} today\",\n",
    "    \"I ate a {} and a {} for lunch\",\n",
    "    \"I made a {} and {} for lunch\",\n",
    "    \"I ate {} and {}\",\n",
    "    \"today I ate a {} and a {} for lunch\",\n",
    "    \"I had {} with my husband last night\",\n",
    "    \"I brought you some {} on my birthday\",\n",
    "    \"I made {} for yesterday's dinner\",\n",
    "    \"last night, a {} was sent to me with {}\",\n",
    "    \"I had {} yesterday and I'd like to eat it anyway\",\n",
    "    \"I ate a couple of {} last night\",\n",
    "    \"I had some {} at dinner last night\",\n",
    "    \"Last night, I ordered some {}\",\n",
    "    \"I made a {} last night\",\n",
    "    \"I had a bowl of {} with {} and I wanted to go to the mall today\",\n",
    "    \"I brought a basket of {} for breakfast this morning\",\n",
    "    \"I had a bowl of {}\",\n",
    "    \"I ate a {} with {} in the morning\",\n",
    "    \"I made a bowl of {} for my breakfast\",\n",
    "    \"There's {} for breakfast in the bowl this morning\",\n",
    "    \"This morning, I made a bowl of {}\",\n",
    "    \"I decided to have some {} as a little bonus\",\n",
    "    \"I decided to enjoy some {}\",\n",
    "    \"I've decided to have some {} for dessert\",\n",
    "    \"I had a {}, a {} and {} at home\",\n",
    "    \"I took a {}, {} and {} on the weekend\",\n",
    "    \"I ate a {} with {} and {} just now\",\n",
    "    \"Last night, I ate an {} with {} and {}\",\n",
    "    \"I tasted some {}, {} and {} at the office\",\n",
    "    \"There's a basket of {}, {} and {} that I consumed\",\n",
    "    \"I devoured a {}, {} and {}\",\n",
    "    \"I've already had a bag of {}, {} and {} from the fridge\"\n",
    "]"
   ]
  },
  {
   "cell_type": "code",
   "execution_count": 126,
   "metadata": {},
   "outputs": [],
   "source": [
    "# create dictionaries to store the generated food combinations. Do note that one_food != one_worded_food. one_food == \"barbecue sauce\", one_worded_food == \"sauce\"\n",
    "TRAIN_FOOD_DATA = {\n",
    "    \"one_food\": [],\n",
    "    \"two_foods\": [],\n",
    "    \"three_foods\": []\n",
    "}\n",
    "\n",
    "TEST_FOOD_DATA = {\n",
    "    \"one_food\": [],\n",
    "    \"two_foods\": [],\n",
    "    \"three_foods\": []\n",
    "}\n",
    "\n",
    "# one_food, two_food, and three_food combinations will be limited to 167 sentences\n",
    "FOOD_SENTENCE_LIMIT = 167\n",
    "\n",
    "# helper function for deciding what dictionary and subsequent array to append the food sentence on to\n",
    "def get_food_data(count):\n",
    "    return {\n",
    "        1: TRAIN_FOOD_DATA[\"one_food\"] if len(TRAIN_FOOD_DATA[\"one_food\"]) < FOOD_SENTENCE_LIMIT else TEST_FOOD_DATA[\"one_food\"],\n",
    "        2: TRAIN_FOOD_DATA[\"two_foods\"] if len(TRAIN_FOOD_DATA[\"two_foods\"]) < FOOD_SENTENCE_LIMIT else TEST_FOOD_DATA[\"two_foods\"],\n",
    "        3: TRAIN_FOOD_DATA[\"three_foods\"] if len(TRAIN_FOOD_DATA[\"three_foods\"]) < FOOD_SENTENCE_LIMIT else TEST_FOOD_DATA[\"three_foods\"],\n",
    "    }[count]\n",
    "\n",
    "# the pattern to replace from the template sentences\n",
    "pattern_to_replace = \"{}\"\n",
    "\n",
    "# shuffle the data before starting\n",
    "foods = foods.sample(frac=1)\n",
    "\n",
    "# the count that helps us decide when to break from the for loop\n",
    "food_entity_count = foods.size - 1\n",
    "\n",
    "# start the while loop, ensure we don't get an index out of bounds error\n",
    "while food_entity_count >= 2:\n",
    "    entities = []\n",
    "\n",
    "    # pick a random food template\n",
    "    sentence = food_templates[random.randint(0, len(food_templates) - 1)]\n",
    "\n",
    "    # find out how many braces \"{}\" need to be replaced in the template\n",
    "    matches = re.findall(pattern_to_replace, sentence)\n",
    "\n",
    "    # for each brace, replace with a food entity from the shuffled food data\n",
    "    for match in matches:\n",
    "        food = foods.iloc[food_entity_count]\n",
    "        food_entity_count -= 1\n",
    "\n",
    "        # replace the pattern, but then find the match of the food entity we just inserted\n",
    "        sentence = sentence.replace(match, food, 1)\n",
    "        match_span = re.search(food, sentence).span()\n",
    "\n",
    "        # use that match to find the index positions of the food entity in the sentence, append\n",
    "\n",
    "        if len(entities) == 0:\n",
    "            entities.append((match_span[0], match_span[1], \"FOOD\"))\n",
    "        else:\n",
    "            for span0, span1, _ in entities:\n",
    "                if match_span[0] != span0:\n",
    "                    entities.append((match_span[0], match_span[1], \"FOOD\"))\n",
    "    \n",
    "    entities = list(set(entities))\n",
    "\n",
    "    # append the sentence and the position of the entities to the correct dictionary and array\n",
    "    get_food_data(len(matches)).append((sentence, {\"entities\": entities}))"
   ]
  },
  {
   "cell_type": "code",
   "execution_count": 127,
   "metadata": {},
   "outputs": [
    {
     "name": "stdout",
     "output_type": "stream",
     "text": [
      "167 one_food sentences: ('I just ate a fingers sprinkles', {'entities': [(13, 30, 'FOOD')]})\n",
      "167 two_foods sentences: ('I ate a jumbo cheeseburger and a nori for lunch', {'entities': [(8, 26, 'FOOD'), (33, 37, 'FOOD')]})\n",
      "167 three_foods sentences: ('I took a sriracha pesto, gummi worms and cherries on the weekend', {'entities': [(25, 36, 'FOOD'), (41, 49, 'FOOD'), (9, 23, 'FOOD')]})\n"
     ]
    }
   ],
   "source": [
    "for key in TRAIN_FOOD_DATA:\n",
    "    print(\"{} {} sentences: {}\".format(len(TRAIN_FOOD_DATA[key]), key, TRAIN_FOOD_DATA[key][0]))"
   ]
  },
  {
   "cell_type": "code",
   "execution_count": 128,
   "metadata": {},
   "outputs": [
    {
     "name": "stdout",
     "output_type": "stream",
     "text": [
      "1036 one_food items: ('I ate a couple of syrup  last night', {'entities': [(18, 24, 'FOOD')]})\n",
      "268 two_foods items: ('today I ate a navy beans and a piccalilli pickle for lunch', {'entities': [(31, 48, 'FOOD'), (14, 24, 'FOOD')]})\n",
      "245 three_foods items: (\"There's a basket of enriched steak rolls, midgees and blueberry pie bread that I consumed\", {'entities': [(54, 73, 'FOOD'), (20, 40, 'FOOD'), (42, 49, 'FOOD')]})\n"
     ]
    }
   ],
   "source": [
    "for key in TEST_FOOD_DATA:\n",
    "    print(\"{} {} items: {}\".format(len(TEST_FOOD_DATA[key]), key, TEST_FOOD_DATA[key][0]))"
   ]
  },
  {
   "cell_type": "code",
   "execution_count": 129,
   "metadata": {},
   "outputs": [
    {
     "name": "stderr",
     "output_type": "stream",
     "text": [
      "[nltk_data] Downloading package brown to /home/s2478846/nltk_data...\n",
      "[nltk_data]   Package brown is already up-to-date!\n"
     ]
    },
    {
     "data": {
      "text/plain": [
       "True"
      ]
     },
     "execution_count": 129,
     "metadata": {},
     "output_type": "execute_result"
    }
   ],
   "source": [
    "import nltk\n",
    "nltk.download(\"brown\")"
   ]
  },
  {
   "cell_type": "code",
   "execution_count": 130,
   "metadata": {},
   "outputs": [],
   "source": [
    "from nltk.corpus import brown"
   ]
  },
  {
   "cell_type": "code",
   "execution_count": 131,
   "metadata": {},
   "outputs": [],
   "source": [
    "article = []\n",
    "sentences = brown.sents(categories='news')[:10000]\n",
    "for i, sentence in enumerate(sentences):\n",
    "    sent = ' '.join(sentence)\n",
    "    sent = sent.translate(str.maketrans('','', string.punctuation))\n",
    "    article.append(sent)\n",
    "    # print(sentence)"
   ]
  },
  {
   "cell_type": "code",
   "execution_count": 132,
   "metadata": {},
   "outputs": [],
   "source": [
    "npr_df = pd.DataFrame({'Article': article})"
   ]
  },
  {
   "cell_type": "code",
   "execution_count": 133,
   "metadata": {},
   "outputs": [
    {
     "data": {
      "text/html": [
       "<div>\n",
       "<style scoped>\n",
       "    .dataframe tbody tr th:only-of-type {\n",
       "        vertical-align: middle;\n",
       "    }\n",
       "\n",
       "    .dataframe tbody tr th {\n",
       "        vertical-align: top;\n",
       "    }\n",
       "\n",
       "    .dataframe thead th {\n",
       "        text-align: right;\n",
       "    }\n",
       "</style>\n",
       "<table border=\"1\" class=\"dataframe\">\n",
       "  <thead>\n",
       "    <tr style=\"text-align: right;\">\n",
       "      <th></th>\n",
       "      <th>Article</th>\n",
       "    </tr>\n",
       "  </thead>\n",
       "  <tbody>\n",
       "    <tr>\n",
       "      <th>0</th>\n",
       "      <td>The Fulton County Grand Jury said Friday an in...</td>\n",
       "    </tr>\n",
       "    <tr>\n",
       "      <th>1</th>\n",
       "      <td>The jury further said in termend presentments ...</td>\n",
       "    </tr>\n",
       "    <tr>\n",
       "      <th>2</th>\n",
       "      <td>The SeptemberOctober term jury had been charge...</td>\n",
       "    </tr>\n",
       "    <tr>\n",
       "      <th>3</th>\n",
       "      <td>Only a relative handful of such reports was r...</td>\n",
       "    </tr>\n",
       "    <tr>\n",
       "      <th>4</th>\n",
       "      <td>The jury said it did find that many of Georgia...</td>\n",
       "    </tr>\n",
       "  </tbody>\n",
       "</table>\n",
       "</div>"
      ],
      "text/plain": [
       "                                             Article\n",
       "0  The Fulton County Grand Jury said Friday an in...\n",
       "1  The jury further said in termend presentments ...\n",
       "2  The SeptemberOctober term jury had been charge...\n",
       "3   Only a relative handful of such reports was r...\n",
       "4  The jury said it did find that many of Georgia..."
      ]
     },
     "execution_count": 133,
     "metadata": {},
     "output_type": "execute_result"
    }
   ],
   "source": [
    "npr_df.head()"
   ]
  },
  {
   "cell_type": "code",
   "execution_count": 134,
   "metadata": {},
   "outputs": [],
   "source": [
    "nlp = en_core_web_lg.load()"
   ]
  },
  {
   "cell_type": "code",
   "execution_count": 135,
   "metadata": {},
   "outputs": [],
   "source": [
    "revision_texts = []\n",
    "\n",
    "# convert the articles to spacy objects to better identify the sentences. Disabled unneeded components. # takes ~ 4 minutes\n",
    "for doc in nlp.pipe(npr_df[\"Article\"][:6000], batch_size=30, disable=[\"tagger\", \"ner\"]):\n",
    "    for sentence in doc.sents:\n",
    "        if  40 < len(sentence.text) < 80:\n",
    "            # some of the sentences had excessive whitespace in between words, so we're trimming that\n",
    "            revision_texts.append(\" \".join(re.split(\"\\s+\", sentence.text, flags=re.UNICODE)))"
   ]
  },
  {
   "cell_type": "code",
   "execution_count": 136,
   "metadata": {},
   "outputs": [],
   "source": [
    "revisions = []\n",
    "\n",
    "# Use the existing spaCy model to predict the entities, then append them to revision\n",
    "for doc in nlp.pipe(revision_texts, batch_size=50, disable=[\"tagger\", \"parser\"]):\n",
    "    \n",
    "    # don't append sentences that have no entities\n",
    "    if len(doc.ents) > 0:\n",
    "        revisions.append((doc.text, {\"entities\": [(e.start_char, e.end_char, e.label_) for e in doc.ents]}))"
   ]
  },
  {
   "cell_type": "code",
   "execution_count": 137,
   "metadata": {},
   "outputs": [
    {
     "name": "stdout",
     "output_type": "stream",
     "text": [
      "Regarding Atlantas new multimilliondollar airport \n",
      "{'entities': [(10, 18, 'ORG')]}\n"
     ]
    }
   ],
   "source": [
    "# print an example of the revision sentence\n",
    "print(revisions[0][0])\n",
    "\n",
    "# print an example of the revision data\n",
    "print(revisions[0][1])"
   ]
  },
  {
   "cell_type": "code",
   "execution_count": 138,
   "metadata": {},
   "outputs": [],
   "source": [
    "# create arrays to store the revision data\n",
    "TRAIN_REVISION_DATA = []\n",
    "TEST_REVISION_DATA = []\n",
    "\n",
    "# create dictionaries to keep count of the different entities\n",
    "TRAIN_ENTITY_COUNTER = {}\n",
    "TEST_ENTITY_COUNTER = {}\n",
    "\n",
    "# This will help distribute the entities (i.e. we don't want 1000 PERSON entities, but only 80 ORG entities)\n",
    "REVISION_SENTENCE_SOFT_LIMIT = 100\n",
    "\n",
    "# helper function for incrementing the revision counters\n",
    "def increment_revision_counters(entity_counter, entities):\n",
    "    for entity in entities:\n",
    "        label = entity[2]\n",
    "        if label in entity_counter:\n",
    "            entity_counter[label] += 1\n",
    "        else:\n",
    "            entity_counter[label] = 1\n",
    "\n",
    "random.shuffle(revisions)\n",
    "for revision in revisions:\n",
    "    # get the entities from the revision sentence\n",
    "    entities = revision[1][\"entities\"]\n",
    "\n",
    "    # simple hack to make sure spaCy entities don't get too one-sided\n",
    "    should_append_to_train_counter = 0\n",
    "    for _, _, label in entities:\n",
    "        if label in TRAIN_ENTITY_COUNTER and TRAIN_ENTITY_COUNTER[label] > REVISION_SENTENCE_SOFT_LIMIT:\n",
    "            should_append_to_train_counter -= 1\n",
    "        else:\n",
    "            should_append_to_train_counter += 1\n",
    "\n",
    "    # simple switch for deciding whether to append to train data or test data\n",
    "    if should_append_to_train_counter >= 0:\n",
    "        TRAIN_REVISION_DATA.append(revision)\n",
    "        increment_revision_counters(TRAIN_ENTITY_COUNTER, entities)\n",
    "    else:\n",
    "        TEST_REVISION_DATA.append(revision)\n",
    "        increment_revision_counters(TEST_ENTITY_COUNTER, entities)\n"
   ]
  },
  {
   "cell_type": "code",
   "execution_count": 139,
   "metadata": {},
   "outputs": [
    {
     "data": {
      "text/plain": [
       "{'ORG': 114,\n",
       " 'DATE': 127,\n",
       " 'PERSON': 164,\n",
       " 'GPE': 106,\n",
       " 'CARDINAL': 107,\n",
       " 'QUANTITY': 11,\n",
       " 'NORP': 42,\n",
       " 'ORDINAL': 36,\n",
       " 'FAC': 20,\n",
       " 'MONEY': 13,\n",
       " 'LOC': 16,\n",
       " 'TIME': 21,\n",
       " 'LANGUAGE': 4,\n",
       " 'PERCENT': 3,\n",
       " 'EVENT': 4,\n",
       " 'WORK_OF_ART': 6,\n",
       " 'PRODUCT': 5,\n",
       " 'LAW': 2}"
      ]
     },
     "execution_count": 139,
     "metadata": {},
     "output_type": "execute_result"
    }
   ],
   "source": [
    "TRAIN_ENTITY_COUNTER"
   ]
  },
  {
   "cell_type": "code",
   "execution_count": 140,
   "metadata": {},
   "outputs": [
    {
     "data": {
      "text/plain": [
       "{'PERSON': 300,\n",
       " 'ORG': 210,\n",
       " 'LOC': 2,\n",
       " 'GPE': 80,\n",
       " 'DATE': 125,\n",
       " 'TIME': 4,\n",
       " 'WORK_OF_ART': 1,\n",
       " 'CARDINAL': 148,\n",
       " 'FAC': 2,\n",
       " 'QUANTITY': 1,\n",
       " 'ORDINAL': 4,\n",
       " 'NORP': 6,\n",
       " 'PRODUCT': 2,\n",
       " 'PERCENT': 1}"
      ]
     },
     "execution_count": 140,
     "metadata": {},
     "output_type": "execute_result"
    }
   ],
   "source": [
    "TEST_ENTITY_COUNTER"
   ]
  },
  {
   "cell_type": "code",
   "execution_count": 141,
   "metadata": {},
   "outputs": [
    {
     "name": "stdout",
     "output_type": "stream",
     "text": [
      "FOOD 501\n",
      "REVISION 435\n",
      "COMBINED 936\n"
     ]
    }
   ],
   "source": [
    "# combine the food training data\n",
    "TRAIN_FOOD_DATA_COMBINED = TRAIN_FOOD_DATA[\"one_food\"] + TRAIN_FOOD_DATA[\"two_foods\"] + TRAIN_FOOD_DATA[\"three_foods\"]\n",
    "\n",
    "# print the length of the food training data\n",
    "print(\"FOOD\", len(TRAIN_FOOD_DATA_COMBINED))\n",
    "\n",
    "# print the length of the revision training data\n",
    "print(\"REVISION\", len(TRAIN_REVISION_DATA))\n",
    "\n",
    "# join and print the combined length\n",
    "TRAIN_DATA = TRAIN_REVISION_DATA + TRAIN_FOOD_DATA_COMBINED\n",
    "print(\"COMBINED\", len(TRAIN_DATA))"
   ]
  },
  {
   "cell_type": "code",
   "execution_count": 142,
   "metadata": {},
   "outputs": [
    {
     "data": {
      "text/plain": [
       "['tagger', 'parser', 'ner']"
      ]
     },
     "execution_count": 142,
     "metadata": {},
     "output_type": "execute_result"
    }
   ],
   "source": [
    "nlp.pipe_names"
   ]
  },
  {
   "cell_type": "code",
   "execution_count": 144,
   "metadata": {},
   "outputs": [
    {
     "name": "stderr",
     "output_type": "stream",
     "text": [
      "/data/s2478846/conda/envs/vlp/lib/python3.8/site-packages/spacy/language.py:482: UserWarning: [W030] Some entities could not be aligned in the text \"I ate a rosemary with apricot mustard glaze  in th...\" with entities \"[(22, 44, 'FOOD'), (8, 16, 'FOOD')]\". Use `spacy.gold.biluo_tags_from_offsets(nlp.make_doc(text), entities)` to check the alignment. Misaligned entities (with BILUO tag '-') will be ignored during training.\n",
      "  gold = GoldParse(doc, **gold)\n",
      "/data/s2478846/conda/envs/vlp/lib/python3.8/site-packages/spacy/language.py:482: UserWarning: [W030] Some entities could not be aligned in the text \"There's pistachios  for breakfast in the bowl this...\" with entities \"[(8, 19, 'FOOD')]\". Use `spacy.gold.biluo_tags_from_offsets(nlp.make_doc(text), entities)` to check the alignment. Misaligned entities (with BILUO tag '-') will be ignored during training.\n",
      "  gold = GoldParse(doc, **gold)\n",
      "/data/s2478846/conda/envs/vlp/lib/python3.8/site-packages/spacy/language.py:482: UserWarning: [W030] Some entities could not be aligned in the text \"I tasted some ham , shrimp uncooked and enchilado ...\" with entities \"[(14, 18, 'FOOD'), (20, 35, 'FOOD'), (40, 56, 'FOO...\". Use `spacy.gold.biluo_tags_from_offsets(nlp.make_doc(text), entities)` to check the alignment. Misaligned entities (with BILUO tag '-') will be ignored during training.\n",
      "  gold = GoldParse(doc, **gold)\n",
      "/data/s2478846/conda/envs/vlp/lib/python3.8/site-packages/spacy/language.py:482: UserWarning: [W030] Some entities could not be aligned in the text \"last night, a grape was sent to me with tortellini...\" with entities \"[(14, 19, 'FOOD'), (40, 51, 'FOOD')]\". Use `spacy.gold.biluo_tags_from_offsets(nlp.make_doc(text), entities)` to check the alignment. Misaligned entities (with BILUO tag '-') will be ignored during training.\n",
      "  gold = GoldParse(doc, **gold)\n",
      "/data/s2478846/conda/envs/vlp/lib/python3.8/site-packages/spacy/language.py:482: UserWarning: [W030] Some entities could not be aligned in the text \"I brought you some cookies  on my birthday\" with entities \"[(19, 27, 'FOOD')]\". Use `spacy.gold.biluo_tags_from_offsets(nlp.make_doc(text), entities)` to check the alignment. Misaligned entities (with BILUO tag '-') will be ignored during training.\n",
      "  gold = GoldParse(doc, **gold)\n",
      "/data/s2478846/conda/envs/vlp/lib/python3.8/site-packages/spacy/language.py:482: UserWarning: [W030] Some entities could not be aligned in the text \"I made a applesauce  and crunchy rice rollers for ...\" with entities \"[(25, 45, 'FOOD'), (9, 20, 'FOOD')]\". Use `spacy.gold.biluo_tags_from_offsets(nlp.make_doc(text), entities)` to check the alignment. Misaligned entities (with BILUO tag '-') will be ignored during training.\n",
      "  gold = GoldParse(doc, **gold)\n",
      "/data/s2478846/conda/envs/vlp/lib/python3.8/site-packages/spacy/language.py:482: UserWarning: [W030] Some entities could not be aligned in the text \"This morning, I made a bowl of toffee \" with entities \"[(31, 38, 'FOOD')]\". Use `spacy.gold.biluo_tags_from_offsets(nlp.make_doc(text), entities)` to check the alignment. Misaligned entities (with BILUO tag '-') will be ignored during training.\n",
      "  gold = GoldParse(doc, **gold)\n",
      "/data/s2478846/conda/envs/vlp/lib/python3.8/site-packages/spacy/language.py:482: UserWarning: [W030] Some entities could not be aligned in the text \"I brought you some apples  on my birthday\" with entities \"[(19, 26, 'FOOD')]\". Use `spacy.gold.biluo_tags_from_offsets(nlp.make_doc(text), entities)` to check the alignment. Misaligned entities (with BILUO tag '-') will be ignored during training.\n",
      "  gold = GoldParse(doc, **gold)\n",
      "/data/s2478846/conda/envs/vlp/lib/python3.8/site-packages/spacy/language.py:482: UserWarning: [W030] Some entities could not be aligned in the text \"Last night, I ate an medley with jalapeno peppers ...\" with entities \"[(21, 27, 'FOOD'), (33, 57, 'FOOD'), (62, 73, 'FOO...\". Use `spacy.gold.biluo_tags_from_offsets(nlp.make_doc(text), entities)` to check the alignment. Misaligned entities (with BILUO tag '-') will be ignored during training.\n",
      "  gold = GoldParse(doc, **gold)\n",
      "/data/s2478846/conda/envs/vlp/lib/python3.8/site-packages/spacy/language.py:482: UserWarning: [W030] Some entities could not be aligned in the text \"I had a smoked sausge , a rye premium bread and tu...\" with entities \"[(48, 56, 'FOOD'), (26, 43, 'FOOD'), (8, 22, 'FOOD...\". Use `spacy.gold.biluo_tags_from_offsets(nlp.make_doc(text), entities)` to check the alignment. Misaligned entities (with BILUO tag '-') will be ignored during training.\n",
      "  gold = GoldParse(doc, **gold)\n"
     ]
    },
    {
     "name": "stdout",
     "output_type": "stream",
     "text": [
      "Losses (1/30) {'ner': 6865.535072769428}\n",
      "Losses (2/30) {'ner': 6322.315588503858}\n",
      "Losses (3/30) {'ner': 6013.2584727292415}\n",
      "Losses (4/30) {'ner': 5903.926022073254}\n",
      "Losses (5/30) {'ner': 5816.097451763693}\n",
      "Losses (6/30) {'ner': 5814.300892004743}\n",
      "Losses (7/30) {'ner': 5686.641056919936}\n",
      "Losses (8/30) {'ner': 5793.508453631068}\n",
      "Losses (9/30) {'ner': 5724.086024272256}\n",
      "Losses (10/30) {'ner': 5711.498460925184}\n",
      "Losses (11/30) {'ner': 5653.116195980925}\n",
      "Losses (12/30) {'ner': 5559.8016498943325}\n",
      "Losses (13/30) {'ner': 5596.82005363889}\n",
      "Losses (14/30) {'ner': 5605.7816534198355}\n",
      "Losses (15/30) {'ner': 5694.852554613826}\n",
      "Losses (16/30) {'ner': 5660.59294475615}\n",
      "Losses (17/30) {'ner': 5680.054303069366}\n",
      "Losses (18/30) {'ner': 5576.239819250186}\n",
      "Losses (19/30) {'ner': 5588.503283847589}\n",
      "Losses (20/30) {'ner': 5554.915339077532}\n",
      "Losses (21/30) {'ner': 5601.046177541139}\n",
      "Losses (22/30) {'ner': 5529.638570401337}\n",
      "Losses (23/30) {'ner': 5529.585226745112}\n",
      "Losses (24/30) {'ner': 5448.063485867075}\n",
      "Losses (25/30) {'ner': 5629.271457788331}\n",
      "Losses (26/30) {'ner': 5508.869473669445}\n",
      "Losses (27/30) {'ner': 5574.094794025645}\n",
      "Losses (28/30) {'ner': 5416.220467496198}\n",
      "Losses (29/30) {'ner': 5393.998072695511}\n",
      "Losses (30/30) {'ner': 5514.900007934426}\n"
     ]
    }
   ],
   "source": [
    "\n",
    "# nlp = spacy.blank('en')\n",
    "# if 'ner' not in nlp.pipe_names:\n",
    "#     ner = nlp.create_pipe(\"ner\")\n",
    "#     nlp.add_pipe(ner, last=True)\n",
    "    \n",
    "# for _, annotations in TRAIN_DATA:\n",
    "#     for ent in annotations['entities']:\n",
    "#         ner.add_label(ent[2])\n",
    "\n",
    "# add NER to the pipeline and the new label\n",
    "ner = nlp.get_pipe(\"ner\")\n",
    "ner.add_label(\"FOOD\")\n",
    "\n",
    "# get the names of the components we want to disable during training\n",
    "# pipe_exceptions = [\"ner\", \"trf_wordpiecer\", \"trf_tok2vec\"]\n",
    "other_pipes = [pipe for pipe in nlp.pipe_names if pipe != 'ner']\n",
    "\n",
    "# start the training loop, only training NER\n",
    "epochs = 30\n",
    "optimizer = nlp.resume_training()\n",
    "with nlp.disable_pipes(*other_pipes), warnings.catch_warnings():\n",
    "    warnings.filterwarnings(\"once\", category=UserWarning, module='spacy')\n",
    "    sizes = compounding(1.0, 4.0, 1.001)\n",
    "    \n",
    "    # batch up the examples using spaCy's minibatc\n",
    "    for epoch in range(epochs):\n",
    "        examples = TRAIN_DATA\n",
    "        random.shuffle(examples)\n",
    "        batches = minibatch(examples, size=sizes)\n",
    "        losses = {}\n",
    "        \n",
    "        for batch in batches:\n",
    "            texts, annotations = zip(*batch)\n",
    "            # print(texts)\n",
    "            # try:\n",
    "            nlp.update(texts, annotations, sgd=optimizer, drop=0.35, losses=losses)\n",
    "            # except Exception as error:\n",
    "            #     print(error)\n",
    "            #     continue\n",
    "\n",
    "        print(\"Losses ({}/{})\".format(epoch + 1, epochs), losses)"
   ]
  },
  {
   "cell_type": "code",
   "execution_count": 145,
   "metadata": {},
   "outputs": [
    {
     "data": {
      "text/html": [
       "<span class=\"tex2jax_ignore\"><div class=\"entities\" style=\"line-height: 2.5; direction: ltr\">I had a \n",
       "<mark class=\"entity\" style=\"background: #ddd; padding: 0.45em 0.6em; margin: 0 0.25em; line-height: 1; border-radius: 0.35em;\">\n",
       "    hamburger\n",
       "    <span style=\"font-size: 0.8em; font-weight: bold; line-height: 1; border-radius: 0.35em; text-transform: uppercase; vertical-align: middle; margin-left: 0.5rem\">FOOD</span>\n",
       "</mark>\n",
       " and \n",
       "<mark class=\"entity\" style=\"background: #ddd; padding: 0.45em 0.6em; margin: 0 0.25em; line-height: 1; border-radius: 0.35em;\">\n",
       "    chips\n",
       "    <span style=\"font-size: 0.8em; font-weight: bold; line-height: 1; border-radius: 0.35em; text-transform: uppercase; vertical-align: middle; margin-left: 0.5rem\">FOOD</span>\n",
       "</mark>\n",
       " for lunch today.</div></span>"
      ],
      "text/plain": [
       "<IPython.core.display.HTML object>"
      ]
     },
     "metadata": {},
     "output_type": "display_data"
    },
    {
     "data": {
      "text/html": [
       "<span class=\"tex2jax_ignore\"><div class=\"entities\" style=\"line-height: 2.5; direction: ltr\">I decided to have \n",
       "<mark class=\"entity\" style=\"background: #ddd; padding: 0.45em 0.6em; margin: 0 0.25em; line-height: 1; border-radius: 0.35em;\">\n",
       "    chocolate ice cream\n",
       "    <span style=\"font-size: 0.8em; font-weight: bold; line-height: 1; border-radius: 0.35em; text-transform: uppercase; vertical-align: middle; margin-left: 0.5rem\">FOOD</span>\n",
       "</mark>\n",
       " as a little treat for myself.</div></span>"
      ],
      "text/plain": [
       "<IPython.core.display.HTML object>"
      ]
     },
     "metadata": {},
     "output_type": "display_data"
    },
    {
     "data": {
      "text/html": [
       "<span class=\"tex2jax_ignore\"><div class=\"entities\" style=\"line-height: 2.5; direction: ltr\">I ordered \n",
       "<mark class=\"entity\" style=\"background: #ddd; padding: 0.45em 0.6em; margin: 0 0.25em; line-height: 1; border-radius: 0.35em;\">\n",
       "    basmati rice\n",
       "    <span style=\"font-size: 0.8em; font-weight: bold; line-height: 1; border-radius: 0.35em; text-transform: uppercase; vertical-align: middle; margin-left: 0.5rem\">FOOD</span>\n",
       "</mark>\n",
       ", \n",
       "<mark class=\"entity\" style=\"background: #ddd; padding: 0.45em 0.6em; margin: 0 0.25em; line-height: 1; border-radius: 0.35em;\">\n",
       "    leaf spinach\n",
       "    <span style=\"font-size: 0.8em; font-weight: bold; line-height: 1; border-radius: 0.35em; text-transform: uppercase; vertical-align: middle; margin-left: 0.5rem\">FOOD</span>\n",
       "</mark>\n",
       " and \n",
       "<mark class=\"entity\" style=\"background: #ddd; padding: 0.45em 0.6em; margin: 0 0.25em; line-height: 1; border-radius: 0.35em;\">\n",
       "    cheese\n",
       "    <span style=\"font-size: 0.8em; font-weight: bold; line-height: 1; border-radius: 0.35em; text-transform: uppercase; vertical-align: middle; margin-left: 0.5rem\">FOOD</span>\n",
       "</mark>\n",
       " from \n",
       "<mark class=\"entity\" style=\"background: #feca74; padding: 0.45em 0.6em; margin: 0 0.25em; line-height: 1; border-radius: 0.35em;\">\n",
       "    Tesco\n",
       "    <span style=\"font-size: 0.8em; font-weight: bold; line-height: 1; border-radius: 0.35em; text-transform: uppercase; vertical-align: middle; margin-left: 0.5rem\">GPE</span>\n",
       "</mark>\n",
       " yesterday</div></span>"
      ],
      "text/plain": [
       "<IPython.core.display.HTML object>"
      ]
     },
     "metadata": {},
     "output_type": "display_data"
    }
   ],
   "source": [
    "# display sentences involving target entity\n",
    "spacy.displacy.render(nlp(\"I had a hamburger and chips for lunch today.\"), style=\"ent\")\n",
    "spacy.displacy.render(nlp(\"I decided to have chocolate ice cream as a little treat for myself.\"), style=\"ent\")\n",
    "spacy.displacy.render(nlp(\"I ordered basmati rice, leaf spinach and cheese from Tesco yesterday\"), style=\"ent\")"
   ]
  },
  {
   "cell_type": "code",
   "execution_count": 146,
   "metadata": {},
   "outputs": [
    {
     "name": "stdout",
     "output_type": "stream",
     "text": [
      "1_worded_foods: 95.64%\n",
      "2_worded_foods: 97.56%\n",
      "3_worded_foods: 95.68%\n",
      "---\n",
      "one_food: 95.75%\n",
      "two_foods: 96.27%\n",
      "three_foods: 96.87%\n",
      "\n",
      "Total: 96.23%\n"
     ]
    }
   ],
   "source": [
    "# dictionary to hold our evaluation data\n",
    "food_evaluation = {\n",
    "    \"one_food\": {\n",
    "        \"correct\": 0,\n",
    "        \"total\": 0,\n",
    "    },\n",
    "    \"two_foods\": {\n",
    "        \"correct\": 0,\n",
    "        \"total\": 0\n",
    "    },\n",
    "    \"three_foods\": {\n",
    "        \"correct\": 0,\n",
    "        \"total\": 0\n",
    "    }\n",
    "}\n",
    "\n",
    "word_evaluation = {\n",
    "    \"1_worded_foods\": {\n",
    "        \"correct\": 0,\n",
    "        \"total\": 0\n",
    "    },\n",
    "    \"2_worded_foods\": {\n",
    "        \"correct\": 0,\n",
    "        \"total\": 0\n",
    "    },\n",
    "    \"3_worded_foods\": {\n",
    "        \"correct\": 0,\n",
    "        \"total\": 0\n",
    "    }\n",
    "}\n",
    "\n",
    "# loop over data from our test food set (3 keys in total)\n",
    "for key in TEST_FOOD_DATA:\n",
    "    foods = TEST_FOOD_DATA[key]\n",
    "\n",
    "    for food in foods:\n",
    "        # extract the sentence and correct food entities according to our test data\n",
    "        sentence = food[0]\n",
    "        entities = food[1][\"entities\"]\n",
    "\n",
    "        # for each entity, use our updated model to make a prediction on the sentence\n",
    "        for entity in entities:\n",
    "            doc = nlp(sentence)\n",
    "            correct_text = sentence[entity[0]:entity[1]]\n",
    "            n_worded_food =  len(correct_text.split())\n",
    "\n",
    "            # if we find that there's a match for predicted entity and predicted text, increment correct counters\n",
    "            for ent in doc.ents:\n",
    "                if ent.label_ == entity[2] and ent.text == correct_text:\n",
    "                    food_evaluation[key][\"correct\"] += 1\n",
    "                    if n_worded_food > 0:\n",
    "                        word_evaluation[f\"{n_worded_food}_worded_foods\"][\"correct\"] += 1\n",
    "                    \n",
    "                    # this break is important, ensures that we're not double counting on a correct match\n",
    "                    break\n",
    "            \n",
    "            #  increment total counters after each entity loop\n",
    "            food_evaluation[key][\"total\"] += 1\n",
    "            if n_worded_food > 0:\n",
    "                word_evaluation[f\"{n_worded_food}_worded_foods\"][\"total\"] += 1\n",
    "for key in word_evaluation:\n",
    "    correct = word_evaluation[key][\"correct\"]\n",
    "    total = word_evaluation[key][\"total\"]\n",
    "\n",
    "    print(f\"{key}: {correct / total * 100:.2f}%\")\n",
    "\n",
    "food_total_sum = 0\n",
    "food_correct_sum = 0\n",
    "\n",
    "print(\"---\")\n",
    "for key in food_evaluation:\n",
    "    correct = food_evaluation[key][\"correct\"]\n",
    "    total = food_evaluation[key][\"total\"]\n",
    "    \n",
    "    food_total_sum += total\n",
    "    food_correct_sum += correct\n",
    "\n",
    "    print(f\"{key}: {correct / total * 100:.2f}%\")\n",
    "\n",
    "print(f\"\\nTotal: {food_correct_sum/food_total_sum * 100:.2f}%\")"
   ]
  },
  {
   "cell_type": "code",
   "execution_count": 147,
   "metadata": {},
   "outputs": [],
   "source": [
    "# dictionary which will be populated with the entities and result information\n",
    "entity_evaluation = {}\n",
    "\n",
    "# helper function to udpate the entity_evaluation dictionary\n",
    "def update_results(entity, metric):\n",
    "    if entity not in entity_evaluation:\n",
    "        entity_evaluation[entity] = {\"correct\": 0, \"total\": 0}\n",
    "    \n",
    "    entity_evaluation[entity][metric] += 1\n",
    "\n",
    "# same as before, see if entities from test set match what spaCy currently predicts\n",
    "for data in TEST_REVISION_DATA:\n",
    "    sentence = data[0]\n",
    "    entities = data[1][\"entities\"]\n",
    "\n",
    "    for entity in entities:\n",
    "        doc = nlp(sentence)\n",
    "        correct_text = sentence[entity[0]:entity[1]]\n",
    "\n",
    "        for ent in doc.ents:\n",
    "            if ent.label_ == entity[2] and ent.text == correct_text:\n",
    "                update_results(ent.label_, \"correct\")\n",
    "                break\n",
    "\n",
    "        update_results(entity[2], \"total\")"
   ]
  },
  {
   "cell_type": "code",
   "execution_count": 148,
   "metadata": {},
   "outputs": [
    {
     "name": "stdout",
     "output_type": "stream",
     "text": [
      "PERSON | 82.33%\n",
      "ORG | 50.00%\n",
      "LOC | 0.00%\n",
      "GPE | 77.50%\n",
      "DATE | 80.80%\n",
      "TIME | 25.00%\n",
      "WORK_OF_ART | 0.00%\n",
      "CARDINAL | 86.49%\n",
      "FAC | 0.00%\n",
      "QUANTITY | 0.00%\n",
      "ORDINAL | 100.00%\n",
      "NORP | 66.67%\n",
      "PRODUCT | 0.00%\n",
      "PERCENT | 0.00%\n",
      "\n",
      "Overall accuracy: 73.59%\n"
     ]
    }
   ],
   "source": [
    "sum_total = 0\n",
    "sum_correct = 0\n",
    "\n",
    "for entity in entity_evaluation:\n",
    "    total = entity_evaluation[entity][\"total\"]\n",
    "    correct = entity_evaluation[entity][\"correct\"]\n",
    "\n",
    "    sum_total += total\n",
    "    sum_correct += correct\n",
    "    \n",
    "    print(\"{} | {:.2f}%\".format(entity, correct / total * 100))\n",
    "\n",
    "print()\n",
    "print(\"Overall accuracy: {:.2f}%\".format(sum_correct / sum_total * 100))"
   ]
  },
  {
   "cell_type": "code",
   "execution_count": 150,
   "metadata": {},
   "outputs": [],
   "source": [
    "nlp.meta[\"name\"] = \"food_entity_extractor_v2\"\n",
    "nlp.to_disk(\"food_entity_extractor\")"
   ]
  }
 ],
 "metadata": {
  "kernelspec": {
   "display_name": "Python 3.8.16 ('vlp': conda)",
   "language": "python",
   "name": "python3"
  },
  "language_info": {
   "codemirror_mode": {
    "name": "ipython",
    "version": 3
   },
   "file_extension": ".py",
   "mimetype": "text/x-python",
   "name": "python",
   "nbconvert_exporter": "python",
   "pygments_lexer": "ipython3",
   "version": "3.8.16"
  },
  "orig_nbformat": 4,
  "vscode": {
   "interpreter": {
    "hash": "5dd84d77c33f85d41338dd766f57228c133e22932e9e1b483f9e388aa97b646f"
   }
  }
 },
 "nbformat": 4,
 "nbformat_minor": 2
}
